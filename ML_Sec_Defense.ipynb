{
  "nbformat": 4,
  "nbformat_minor": 0,
  "metadata": {
    "colab": {
      "provenance": []
    },
    "kernelspec": {
      "name": "python3",
      "display_name": "Python 3"
    },
    "language_info": {
      "name": "python"
    }
  },
  "cells": [
    {
      "cell_type": "code",
      "execution_count": 1,
      "metadata": {
        "id": "LllHlB1fxa2d"
      },
      "outputs": [],
      "source": [
        "import cmath\n",
        "import numpy as np\n",
        "from math import log, ceil\n",
        "import pylab as plt\n",
        "import torch\n",
        "import cv2\n",
        "import os\n",
        "from sklearn.preprocessing import normalize\n",
        "import argparse\n",
        "from sklearn.model_selection import train_test_split\n",
        "from sklearn.linear_model import LogisticRegression\n",
        "from sklearn.ensemble import RandomForestClassifier"
      ]
    },
    {
      "cell_type": "code",
      "source": [
        "from google.colab import drive\n",
        "drive.mount('/content/drive')"
      ],
      "metadata": {
        "id": "Qx1KDGnvRxeD",
        "outputId": "3f86ad57-945d-4fc7-9878-7817f3b7d742",
        "colab": {
          "base_uri": "https://localhost:8080/"
        }
      },
      "execution_count": 2,
      "outputs": [
        {
          "output_type": "stream",
          "name": "stdout",
          "text": [
            "Drive already mounted at /content/drive; to attempt to forcibly remount, call drive.mount(\"/content/drive\", force_remount=True).\n"
          ]
        }
      ]
    },
    {
      "cell_type": "code",
      "source": [
        "def calculate_fourier_spectrum(im):\n",
        "    im = im.float()\n",
        "    im = im.cpu()\n",
        "    im = im.data.numpy() #transorm to numpy\n",
        "    fft = np.fft.fft2(im)\n",
        "    fourier_spectrum = np.abs(fft)\n",
        "    return fourier_spectrum\n",
        "\n",
        "def calculate_spectra(images):\n",
        "    fs = []   \n",
        "    for i in range(len(images)):\n",
        "        image = images[i]\n",
        "        fourier_image = calculate_fourier_spectrum(image)\n",
        "        fs.append(fourier_image.flatten())\n",
        "    return fs\n",
        "    "
      ],
      "metadata": {
        "id": "SGLtbo7Sxd7b"
      },
      "execution_count": 3,
      "outputs": []
    },
    {
      "cell_type": "code",
      "source": [
        "im_size = (350, 225)"
      ],
      "metadata": {
        "id": "7GpuDoaDcHg3"
      },
      "execution_count": 6,
      "outputs": []
    },
    {
      "cell_type": "code",
      "source": [
        "p = []\n",
        "dir = \"drive/MyDrive/data (1)/\"\n",
        "files = os.listdir(dir)\n",
        "for i in files:\n",
        "  x = cv2.imread(dir+i)\n",
        "  x = cv2.resize(x, im_size)\n",
        "  p.append(torch.from_numpy(x).reshape((3, im_size[0], im_size[1])))\n",
        "# p = np.array(p)\n",
        "# norm1 = (p-np.min(p))/(np.max(p)-np.min(p))\n",
        "#print(norm1.min())\n",
        "#type(norm1)\n"
      ],
      "metadata": {
        "id": "vqJ0ekJmzYqH"
      },
      "execution_count": 7,
      "outputs": []
    },
    {
      "cell_type": "code",
      "source": [
        "ap = []\n",
        "dir = \"/content/drive/MyDrive/ML_Sec_AD/\"\n",
        "files= os.listdir(dir)\n",
        "for i in files:\n",
        "  x = cv2.imread(dir+i)\n",
        "  x1 = cv2.resize(x, im_size)\n",
        "  del x\n",
        "  ap.append(torch.from_numpy(x1).reshape((3, im_size[0], im_size[1])))\n",
        "  \n",
        "#ap = np.array(ap)\n",
        "#print(ap)\n",
        "#norm2 = (ap-np.min(ap))/(np.max(ap)-np.min(ap))\n",
        "#norm2.max()"
      ],
      "metadata": {
        "id": "5AWVy2GM4A_5"
      },
      "execution_count": 8,
      "outputs": []
    },
    {
      "cell_type": "code",
      "source": [
        "print(ap[0].shape)\n",
        "len(ap)"
      ],
      "metadata": {
        "colab": {
          "base_uri": "https://localhost:8080/"
        },
        "id": "sPQMo9w7jGM5",
        "outputId": "f78120ca-541f-41a4-a7ef-3be156285014"
      },
      "execution_count": 9,
      "outputs": [
        {
          "output_type": "stream",
          "name": "stdout",
          "text": [
            "torch.Size([3, 350, 225])\n"
          ]
        },
        {
          "output_type": "execute_result",
          "data": {
            "text/plain": [
              "10"
            ]
          },
          "metadata": {},
          "execution_count": 9
        }
      ]
    },
    {
      "cell_type": "markdown",
      "source": [],
      "metadata": {
        "id": "NH5WgOv1VR_x"
      }
    },
    {
      "cell_type": "code",
      "source": [
        "mfs = calculate_spectra(p)\n",
        "mfs_advs = calculate_spectra(ap)\n",
        "characteristics       = np.asarray(mfs, dtype=np.float32)\n",
        "characteristics_adv   = np.asarray(mfs_advs, dtype=np.float32)"
      ],
      "metadata": {
        "id": "VBzE_-VWxt8B"
      },
      "execution_count": 10,
      "outputs": []
    },
    {
      "cell_type": "code",
      "source": [
        "characteristics.shape"
      ],
      "metadata": {
        "colab": {
          "base_uri": "https://localhost:8080/"
        },
        "id": "CrZL6iOtl9BG",
        "outputId": "eeab7897-28cf-4523-f285-f272c70ac734"
      },
      "execution_count": 11,
      "outputs": [
        {
          "output_type": "execute_result",
          "data": {
            "text/plain": [
              "(660, 236250)"
            ]
          },
          "metadata": {},
          "execution_count": 11
        }
      ]
    },
    {
      "cell_type": "code",
      "source": [
        "shape1 = np.shape(characteristics)\n",
        "k1 = shape1[0]\n",
        "shape2 = np.shape(characteristics_adv)\n",
        "k2 = shape2[0]"
      ],
      "metadata": {
        "id": "i6444mBPoVc2"
      },
      "execution_count": 12,
      "outputs": []
    },
    {
      "cell_type": "code",
      "source": [
        "zer= [0]*(k1)\n",
        "one = [1] *k2\n",
        "len(zer)\n",
        "zer = np.array(zer)\n",
        "one = np.array(one)"
      ],
      "metadata": {
        "id": "IthNMcwiVIcO"
      },
      "execution_count": 13,
      "outputs": []
    },
    {
      "cell_type": "code",
      "source": [
        "b_X_train_val, b_X_test, b_y_train_val, b_y_test = train_test_split(characteristics, zer, test_size=0.2, random_state=42)"
      ],
      "metadata": {
        "id": "OeEs52MSWXkk"
      },
      "execution_count": 14,
      "outputs": []
    },
    {
      "cell_type": "code",
      "source": [
        "adv_X_train_val, adv_X_test, adv_y_train_val, adv_y_test = train_test_split(characteristics_adv, one, test_size=0.2, random_state=42)"
      ],
      "metadata": {
        "id": "MeZiQ5iknzfa"
      },
      "execution_count": 15,
      "outputs": []
    },
    {
      "cell_type": "code",
      "source": [
        "print(b_X_train_val.shape)\n",
        "print(b_X_test.shape)\n",
        "print(b_y_train_val.shape)\n",
        "print(b_y_test.shape)"
      ],
      "metadata": {
        "colab": {
          "base_uri": "https://localhost:8080/"
        },
        "id": "0B_P6I4GXVv_",
        "outputId": "d5fa90ca-ce8b-4317-9b2e-ab3c14b2b3df"
      },
      "execution_count": 16,
      "outputs": [
        {
          "output_type": "stream",
          "name": "stdout",
          "text": [
            "(528, 236250)\n",
            "(132, 236250)\n",
            "(528,)\n",
            "(132,)\n"
          ]
        }
      ]
    },
    {
      "cell_type": "code",
      "source": [
        "print(adv_X_train_val.shape)\n",
        "print(adv_X_test.shape)\n",
        "print(adv_y_train_val.shape)\n",
        "print(adv_y_test.shape)"
      ],
      "metadata": {
        "colab": {
          "base_uri": "https://localhost:8080/"
        },
        "id": "d83o7XVUXuz7",
        "outputId": "d2596dbc-68e9-4476-98f2-e490f447a872"
      },
      "execution_count": 17,
      "outputs": [
        {
          "output_type": "stream",
          "name": "stdout",
          "text": [
            "(8, 236250)\n",
            "(2, 236250)\n",
            "(8,)\n",
            "(2,)\n"
          ]
        }
      ]
    },
    {
      "cell_type": "code",
      "source": [
        "b_X_train, b_X_val, b_y_train, b_y_val = train_test_split(b_X_train_val, b_y_train_val, test_size=0.2, random_state=42)"
      ],
      "metadata": {
        "id": "yvJgfFYuWf8x"
      },
      "execution_count": 18,
      "outputs": []
    },
    {
      "cell_type": "code",
      "source": [
        "adv_X_train, adv_X_val, adv_y_train, adv_y_val = train_test_split(adv_X_train_val, adv_y_train_val, test_size=0.2, random_state=42)\n"
      ],
      "metadata": {
        "id": "uv91rGeUo9QU"
      },
      "execution_count": 19,
      "outputs": []
    },
    {
      "cell_type": "code",
      "source": [
        "X_train = np.concatenate(( b_X_train,adv_X_train))\n",
        "y_train = np.concatenate(( b_y_train,adv_y_train))"
      ],
      "metadata": {
        "id": "4D45OSr3a-kB"
      },
      "execution_count": 20,
      "outputs": []
    },
    {
      "cell_type": "code",
      "source": [
        "X_test = np.concatenate(( b_X_test, adv_X_test))\n",
        "y_test = np.concatenate(( b_y_test,adv_y_test))"
      ],
      "metadata": {
        "id": "Qta7Y5PXecF_"
      },
      "execution_count": 21,
      "outputs": []
    },
    {
      "cell_type": "code",
      "source": [
        "rf = RandomForestClassifier(n_estimators = 50, max_features = \"auto\", random_state = 42)\n",
        "rf.fit(X_train, y_train)"
      ],
      "metadata": {
        "id": "TSk5YzAHcr5J",
        "colab": {
          "base_uri": "https://localhost:8080/"
        },
        "outputId": "068ae840-f832-4b5e-89a5-f4c1e41d4ee4"
      },
      "execution_count": 23,
      "outputs": [
        {
          "output_type": "execute_result",
          "data": {
            "text/plain": [
              "RandomForestClassifier(n_estimators=50, random_state=42)"
            ]
          },
          "metadata": {},
          "execution_count": 23
        }
      ]
    },
    {
      "cell_type": "code",
      "source": [
        "predictions = rf.predict(X_test)\n",
        "predictions"
      ],
      "metadata": {
        "id": "MLV5qNITeGTg",
        "colab": {
          "base_uri": "https://localhost:8080/"
        },
        "outputId": "d4648f82-5ea1-4b8c-c29b-df96042d2cd9"
      },
      "execution_count": 24,
      "outputs": [
        {
          "output_type": "execute_result",
          "data": {
            "text/plain": [
              "array([0, 0, 0, 0, 0, 0, 0, 0, 0, 0, 0, 0, 0, 0, 0, 0, 0, 0, 0, 0, 0, 0,\n",
              "       0, 0, 0, 0, 0, 0, 0, 0, 0, 0, 0, 0, 0, 0, 0, 0, 0, 0, 0, 0, 0, 0,\n",
              "       0, 0, 0, 0, 0, 0, 0, 0, 0, 0, 0, 0, 0, 0, 0, 0, 0, 0, 0, 0, 0, 0,\n",
              "       0, 0, 0, 0, 0, 0, 0, 0, 0, 0, 0, 0, 0, 0, 0, 0, 0, 0, 0, 0, 0, 0,\n",
              "       0, 0, 0, 0, 0, 0, 0, 0, 0, 0, 0, 0, 0, 0, 0, 0, 0, 0, 0, 0, 0, 0,\n",
              "       0, 0, 0, 0, 0, 0, 0, 0, 0, 0, 0, 0, 0, 0, 0, 0, 0, 0, 0, 0, 0, 0,\n",
              "       1, 0])"
            ]
          },
          "metadata": {},
          "execution_count": 24
        }
      ]
    },
    {
      "cell_type": "code",
      "source": [],
      "metadata": {
        "colab": {
          "base_uri": "https://localhost:8080/"
        },
        "id": "lcqevcVucbKa",
        "outputId": "33b456c1-a715-4ca8-a7c3-fe922de5e481"
      },
      "execution_count": 25,
      "outputs": [
        {
          "output_type": "execute_result",
          "data": {
            "text/plain": [
              "array([0, 0, 0, 0, 0, 0, 0, 0, 0, 0, 0, 0, 0, 0, 0, 0, 0, 0, 0, 0, 0, 0,\n",
              "       0, 0, 0, 0, 0, 0, 0, 0, 0, 0, 0, 0, 0, 0, 0, 0, 0, 0, 0, 0, 0, 0,\n",
              "       0, 0, 0, 0, 0, 0, 0, 0, 0, 0, 0, 0, 0, 0, 0, 0, 0, 0, 0, 0, 0, 0,\n",
              "       0, 0, 0, 0, 0, 0, 0, 0, 0, 0, 0, 0, 0, 0, 0, 0, 0, 0, 0, 0, 0, 0,\n",
              "       0, 0, 0, 0, 0, 0, 0, 0, 0, 0, 0, 0, 0, 0, 0, 0, 0, 0, 0, 0, 0, 0,\n",
              "       0, 0, 0, 0, 0, 0, 0, 0, 0, 0, 0, 0, 0, 0, 0, 0, 0, 0, 0, 0, 0, 0,\n",
              "       1, 1])"
            ]
          },
          "metadata": {},
          "execution_count": 25
        }
      ]
    },
    {
      "cell_type": "code",
      "source": [
        "accuracy = (y_test == predictions).sum() / y_test.shape[0]"
      ],
      "metadata": {
        "id": "SAMq30qpcoxG"
      },
      "execution_count": 26,
      "outputs": []
    },
    {
      "cell_type": "code",
      "source": [
        "accuracy"
      ],
      "metadata": {
        "colab": {
          "base_uri": "https://localhost:8080/"
        },
        "id": "8BfqQoikc9uQ",
        "outputId": "54c0331d-131e-406a-a3d0-df7f087e9c73"
      },
      "execution_count": 27,
      "outputs": [
        {
          "output_type": "execute_result",
          "data": {
            "text/plain": [
              "0.9925373134328358"
            ]
          },
          "metadata": {},
          "execution_count": 27
        }
      ]
    }
  ]
}